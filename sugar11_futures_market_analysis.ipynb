{
 "cells": [
  {
   "cell_type": "markdown",
   "metadata": {},
   "source": [
    "# Sugar market notebook\n",
    "\n",
    "This notebook serves as an initial exploration into the market, in aide of demostration and development of my data analysis and visualisation skills within Python.  "
   ]
  },
  {
   "cell_type": "markdown",
   "metadata": {},
   "source": [
    "## Research\n",
    "\n",
    "The commodity market is seperated into sub groups Agriculture and Metals, sometimes called soft and hard, and Energy. Commodities can be traded at current/spot price or future prices. Future contracts are exchanged between parties who agree a price, quantity and delivery date of the underlying asset.\n",
    "\n",
    "Sugar is a agricultural/soft commodity with contracts traded in 2 forms, physical white sugar or raw cane sugar. Physical white sugar is No. 5, World market raw cane is No. 11, and US raw cane is No. 16 (formally No. 14 pre-September 2009). \n",
    "\n",
    "A single contract prices the 'free-on-board' delivery of 112,000 pounds (equivalent of 50 imperial/long tons) onto the receiver's vessel to a port within the country of origin of the sugar. "
   ]
  },
  {
   "cell_type": "markdown",
   "metadata": {},
   "source": [
    "## Data description\n",
    "\n",
    "This project will analyse Sugar No. 11, focusing on futures contracts of expiry October 2020. No. 11 is used as it denotes the world benchmark contract for raw sugar trading. Data from June 2020 only, the precise period is 01/06/20-29/06/20. Data will be collected from Yahoo Finance via pandas-datareader. Prices are expressed per metric tonne in USD, and Volume in number of contracts exchanged.\n"
   ]
  },
  {
   "cell_type": "markdown",
   "metadata": {},
   "source": [
    "## Importing required Modules"
   ]
  },
  {
   "cell_type": "code",
   "execution_count": 28,
   "metadata": {},
   "outputs": [],
   "source": [
    "import matplotlib.pyplot as plt\n",
    "from matplotlib import style\n",
    "import pandas as pd\n",
    "import pandas_datareader.data as web"
   ]
  },
  {
   "cell_type": "markdown",
   "metadata": {},
   "source": [
    "## Data collection"
   ]
  },
  {
   "cell_type": "code",
   "execution_count": 29,
   "metadata": {},
   "outputs": [],
   "source": [
    "# start = dt.datetime(2020,6,1)\n",
    "# end = dt.datetime(2020,6,30)\n",
    "# df = web.DataReader('SB=F', 'yahoo', start, end)\n",
    "# df.to_csv('sugar_futures.csv')\n",
    "df = pd.read_csv(('sugar_futures.csv'),index_col='Date')"
   ]
  },
  {
   "cell_type": "markdown",
   "metadata": {},
   "source": [
    "## Exploration"
   ]
  },
  {
   "cell_type": "code",
   "execution_count": 30,
   "metadata": {},
   "outputs": [
    {
     "name": "stdout",
     "output_type": "stream",
     "text": [
      "<class 'pandas.core.frame.DataFrame'>\n",
      "Index: 21 entries, 01/06/2020 to 29/06/2020\n",
      "Data columns (total 6 columns):\n",
      " #   Column     Non-Null Count  Dtype  \n",
      "---  ------     --------------  -----  \n",
      " 0   High       21 non-null     float64\n",
      " 1   Low        21 non-null     float64\n",
      " 2   Open       21 non-null     float64\n",
      " 3   Close      21 non-null     float64\n",
      " 4   Volume     21 non-null     int64  \n",
      " 5   Adj Close  21 non-null     float64\n",
      "dtypes: float64(5), int64(1)\n",
      "memory usage: 1.1+ KB\n"
     ]
    }
   ],
   "source": [
    "df.info()"
   ]
  },
  {
   "cell_type": "code",
   "execution_count": 31,
   "metadata": {},
   "outputs": [
    {
     "data": {
      "text/html": [
       "<div>\n",
       "<style scoped>\n",
       "    .dataframe tbody tr th:only-of-type {\n",
       "        vertical-align: middle;\n",
       "    }\n",
       "\n",
       "    .dataframe tbody tr th {\n",
       "        vertical-align: top;\n",
       "    }\n",
       "\n",
       "    .dataframe thead th {\n",
       "        text-align: right;\n",
       "    }\n",
       "</style>\n",
       "<table border=\"1\" class=\"dataframe\">\n",
       "  <thead>\n",
       "    <tr style=\"text-align: right;\">\n",
       "      <th></th>\n",
       "      <th>High</th>\n",
       "      <th>Low</th>\n",
       "      <th>Open</th>\n",
       "      <th>Close</th>\n",
       "      <th>Volume</th>\n",
       "      <th>Adj Close</th>\n",
       "    </tr>\n",
       "    <tr>\n",
       "      <th>Date</th>\n",
       "      <th></th>\n",
       "      <th></th>\n",
       "      <th></th>\n",
       "      <th></th>\n",
       "      <th></th>\n",
       "      <th></th>\n",
       "    </tr>\n",
       "  </thead>\n",
       "  <tbody>\n",
       "    <tr>\n",
       "      <th>01/06/2020</th>\n",
       "      <td>11.19</td>\n",
       "      <td>10.83</td>\n",
       "      <td>10.97</td>\n",
       "      <td>10.95</td>\n",
       "      <td>10358485</td>\n",
       "      <td>10.95</td>\n",
       "    </tr>\n",
       "    <tr>\n",
       "      <th>02/06/2020</th>\n",
       "      <td>11.36</td>\n",
       "      <td>11.01</td>\n",
       "      <td>11.10</td>\n",
       "      <td>11.27</td>\n",
       "      <td>7822226</td>\n",
       "      <td>11.27</td>\n",
       "    </tr>\n",
       "    <tr>\n",
       "      <th>03/06/2020</th>\n",
       "      <td>11.71</td>\n",
       "      <td>11.22</td>\n",
       "      <td>11.37</td>\n",
       "      <td>11.60</td>\n",
       "      <td>11385915</td>\n",
       "      <td>11.60</td>\n",
       "    </tr>\n",
       "    <tr>\n",
       "      <th>04/06/2020</th>\n",
       "      <td>11.82</td>\n",
       "      <td>11.44</td>\n",
       "      <td>11.69</td>\n",
       "      <td>11.80</td>\n",
       "      <td>10210779</td>\n",
       "      <td>11.80</td>\n",
       "    </tr>\n",
       "    <tr>\n",
       "      <th>05/06/2020</th>\n",
       "      <td>12.12</td>\n",
       "      <td>11.73</td>\n",
       "      <td>11.85</td>\n",
       "      <td>12.05</td>\n",
       "      <td>14006160</td>\n",
       "      <td>12.05</td>\n",
       "    </tr>\n",
       "    <tr>\n",
       "      <th>08/06/2020</th>\n",
       "      <td>12.29</td>\n",
       "      <td>11.89</td>\n",
       "      <td>12.16</td>\n",
       "      <td>11.89</td>\n",
       "      <td>17780846</td>\n",
       "      <td>11.89</td>\n",
       "    </tr>\n",
       "    <tr>\n",
       "      <th>09/06/2020</th>\n",
       "      <td>12.19</td>\n",
       "      <td>11.80</td>\n",
       "      <td>12.02</td>\n",
       "      <td>12.02</td>\n",
       "      <td>21821481</td>\n",
       "      <td>12.02</td>\n",
       "    </tr>\n",
       "    <tr>\n",
       "      <th>10/06/2020</th>\n",
       "      <td>12.40</td>\n",
       "      <td>11.94</td>\n",
       "      <td>12.15</td>\n",
       "      <td>12.40</td>\n",
       "      <td>18642323</td>\n",
       "      <td>12.40</td>\n",
       "    </tr>\n",
       "    <tr>\n",
       "      <th>11/06/2020</th>\n",
       "      <td>12.34</td>\n",
       "      <td>11.88</td>\n",
       "      <td>12.33</td>\n",
       "      <td>12.11</td>\n",
       "      <td>15663291</td>\n",
       "      <td>12.11</td>\n",
       "    </tr>\n",
       "    <tr>\n",
       "      <th>12/06/2020</th>\n",
       "      <td>12.24</td>\n",
       "      <td>11.60</td>\n",
       "      <td>11.94</td>\n",
       "      <td>12.03</td>\n",
       "      <td>7728680</td>\n",
       "      <td>12.03</td>\n",
       "    </tr>\n",
       "    <tr>\n",
       "      <th>15/06/2020</th>\n",
       "      <td>12.14</td>\n",
       "      <td>11.62</td>\n",
       "      <td>11.91</td>\n",
       "      <td>12.10</td>\n",
       "      <td>15565157</td>\n",
       "      <td>12.10</td>\n",
       "    </tr>\n",
       "    <tr>\n",
       "      <th>16/06/2020</th>\n",
       "      <td>12.33</td>\n",
       "      <td>12.01</td>\n",
       "      <td>12.21</td>\n",
       "      <td>12.25</td>\n",
       "      <td>15577453</td>\n",
       "      <td>12.25</td>\n",
       "    </tr>\n",
       "    <tr>\n",
       "      <th>17/06/2020</th>\n",
       "      <td>12.29</td>\n",
       "      <td>11.93</td>\n",
       "      <td>12.22</td>\n",
       "      <td>12.24</td>\n",
       "      <td>11334454</td>\n",
       "      <td>12.24</td>\n",
       "    </tr>\n",
       "    <tr>\n",
       "      <th>18/06/2020</th>\n",
       "      <td>12.30</td>\n",
       "      <td>11.81</td>\n",
       "      <td>12.25</td>\n",
       "      <td>11.86</td>\n",
       "      <td>12242564</td>\n",
       "      <td>11.86</td>\n",
       "    </tr>\n",
       "    <tr>\n",
       "      <th>19/06/2020</th>\n",
       "      <td>12.32</td>\n",
       "      <td>11.90</td>\n",
       "      <td>12.07</td>\n",
       "      <td>12.03</td>\n",
       "      <td>8747084</td>\n",
       "      <td>12.03</td>\n",
       "    </tr>\n",
       "    <tr>\n",
       "      <th>22/06/2020</th>\n",
       "      <td>12.25</td>\n",
       "      <td>11.82</td>\n",
       "      <td>12.21</td>\n",
       "      <td>12.05</td>\n",
       "      <td>10133608</td>\n",
       "      <td>12.05</td>\n",
       "    </tr>\n",
       "    <tr>\n",
       "      <th>23/06/2020</th>\n",
       "      <td>12.10</td>\n",
       "      <td>11.76</td>\n",
       "      <td>12.07</td>\n",
       "      <td>11.91</td>\n",
       "      <td>9532255</td>\n",
       "      <td>11.91</td>\n",
       "    </tr>\n",
       "    <tr>\n",
       "      <th>24/06/2020</th>\n",
       "      <td>12.16</td>\n",
       "      <td>11.65</td>\n",
       "      <td>11.93</td>\n",
       "      <td>11.88</td>\n",
       "      <td>15116264</td>\n",
       "      <td>11.88</td>\n",
       "    </tr>\n",
       "    <tr>\n",
       "      <th>25/06/2020</th>\n",
       "      <td>11.93</td>\n",
       "      <td>11.65</td>\n",
       "      <td>11.82</td>\n",
       "      <td>11.91</td>\n",
       "      <td>8784068</td>\n",
       "      <td>11.91</td>\n",
       "    </tr>\n",
       "    <tr>\n",
       "      <th>26/06/2020</th>\n",
       "      <td>11.99</td>\n",
       "      <td>11.45</td>\n",
       "      <td>11.93</td>\n",
       "      <td>11.60</td>\n",
       "      <td>11899073</td>\n",
       "      <td>11.60</td>\n",
       "    </tr>\n",
       "    <tr>\n",
       "      <th>29/06/2020</th>\n",
       "      <td>11.84</td>\n",
       "      <td>11.33</td>\n",
       "      <td>11.55</td>\n",
       "      <td>11.78</td>\n",
       "      <td>12436194</td>\n",
       "      <td>11.78</td>\n",
       "    </tr>\n",
       "  </tbody>\n",
       "</table>\n",
       "</div>"
      ],
      "text/plain": [
       "             High    Low   Open  Close    Volume  Adj Close\n",
       "Date                                                       \n",
       "01/06/2020  11.19  10.83  10.97  10.95  10358485      10.95\n",
       "02/06/2020  11.36  11.01  11.10  11.27   7822226      11.27\n",
       "03/06/2020  11.71  11.22  11.37  11.60  11385915      11.60\n",
       "04/06/2020  11.82  11.44  11.69  11.80  10210779      11.80\n",
       "05/06/2020  12.12  11.73  11.85  12.05  14006160      12.05\n",
       "08/06/2020  12.29  11.89  12.16  11.89  17780846      11.89\n",
       "09/06/2020  12.19  11.80  12.02  12.02  21821481      12.02\n",
       "10/06/2020  12.40  11.94  12.15  12.40  18642323      12.40\n",
       "11/06/2020  12.34  11.88  12.33  12.11  15663291      12.11\n",
       "12/06/2020  12.24  11.60  11.94  12.03   7728680      12.03\n",
       "15/06/2020  12.14  11.62  11.91  12.10  15565157      12.10\n",
       "16/06/2020  12.33  12.01  12.21  12.25  15577453      12.25\n",
       "17/06/2020  12.29  11.93  12.22  12.24  11334454      12.24\n",
       "18/06/2020  12.30  11.81  12.25  11.86  12242564      11.86\n",
       "19/06/2020  12.32  11.90  12.07  12.03   8747084      12.03\n",
       "22/06/2020  12.25  11.82  12.21  12.05  10133608      12.05\n",
       "23/06/2020  12.10  11.76  12.07  11.91   9532255      11.91\n",
       "24/06/2020  12.16  11.65  11.93  11.88  15116264      11.88\n",
       "25/06/2020  11.93  11.65  11.82  11.91   8784068      11.91\n",
       "26/06/2020  11.99  11.45  11.93  11.60  11899073      11.60\n",
       "29/06/2020  11.84  11.33  11.55  11.78  12436194      11.78"
      ]
     },
     "execution_count": 31,
     "metadata": {},
     "output_type": "execute_result"
    }
   ],
   "source": [
    "df"
   ]
  },
  {
   "cell_type": "code",
   "execution_count": 32,
   "metadata": {},
   "outputs": [],
   "source": [
    "df['DiffOpenClose']=abs(df['Open']-df['Close']) \n",
    "df['DiffHighLow']=abs(df['High']-df['Low']) "
   ]
  },
  {
   "cell_type": "code",
   "execution_count": 33,
   "metadata": {},
   "outputs": [
    {
     "data": {
      "text/html": [
       "<div>\n",
       "<style scoped>\n",
       "    .dataframe tbody tr th:only-of-type {\n",
       "        vertical-align: middle;\n",
       "    }\n",
       "\n",
       "    .dataframe tbody tr th {\n",
       "        vertical-align: top;\n",
       "    }\n",
       "\n",
       "    .dataframe thead th {\n",
       "        text-align: right;\n",
       "    }\n",
       "</style>\n",
       "<table border=\"1\" class=\"dataframe\">\n",
       "  <thead>\n",
       "    <tr style=\"text-align: right;\">\n",
       "      <th></th>\n",
       "      <th>High</th>\n",
       "      <th>Low</th>\n",
       "      <th>Open</th>\n",
       "      <th>Close</th>\n",
       "      <th>Volume</th>\n",
       "      <th>Adj Close</th>\n",
       "      <th>DiffOpenClose</th>\n",
       "      <th>DiffHighLow</th>\n",
       "    </tr>\n",
       "    <tr>\n",
       "      <th>Date</th>\n",
       "      <th></th>\n",
       "      <th></th>\n",
       "      <th></th>\n",
       "      <th></th>\n",
       "      <th></th>\n",
       "      <th></th>\n",
       "      <th></th>\n",
       "      <th></th>\n",
       "    </tr>\n",
       "  </thead>\n",
       "  <tbody>\n",
       "    <tr>\n",
       "      <th>01/06/2020</th>\n",
       "      <td>11.19</td>\n",
       "      <td>10.83</td>\n",
       "      <td>10.97</td>\n",
       "      <td>10.95</td>\n",
       "      <td>10358485</td>\n",
       "      <td>10.95</td>\n",
       "      <td>0.020000</td>\n",
       "      <td>0.360000</td>\n",
       "    </tr>\n",
       "    <tr>\n",
       "      <th>02/06/2020</th>\n",
       "      <td>11.36</td>\n",
       "      <td>11.01</td>\n",
       "      <td>11.10</td>\n",
       "      <td>11.27</td>\n",
       "      <td>7822226</td>\n",
       "      <td>11.27</td>\n",
       "      <td>0.170000</td>\n",
       "      <td>0.349999</td>\n",
       "    </tr>\n",
       "    <tr>\n",
       "      <th>03/06/2020</th>\n",
       "      <td>11.71</td>\n",
       "      <td>11.22</td>\n",
       "      <td>11.37</td>\n",
       "      <td>11.60</td>\n",
       "      <td>11385915</td>\n",
       "      <td>11.60</td>\n",
       "      <td>0.230000</td>\n",
       "      <td>0.490000</td>\n",
       "    </tr>\n",
       "    <tr>\n",
       "      <th>04/06/2020</th>\n",
       "      <td>11.82</td>\n",
       "      <td>11.44</td>\n",
       "      <td>11.69</td>\n",
       "      <td>11.80</td>\n",
       "      <td>10210779</td>\n",
       "      <td>11.80</td>\n",
       "      <td>0.110001</td>\n",
       "      <td>0.380000</td>\n",
       "    </tr>\n",
       "    <tr>\n",
       "      <th>05/06/2020</th>\n",
       "      <td>12.12</td>\n",
       "      <td>11.73</td>\n",
       "      <td>11.85</td>\n",
       "      <td>12.05</td>\n",
       "      <td>14006160</td>\n",
       "      <td>12.05</td>\n",
       "      <td>0.200000</td>\n",
       "      <td>0.390000</td>\n",
       "    </tr>\n",
       "    <tr>\n",
       "      <th>08/06/2020</th>\n",
       "      <td>12.29</td>\n",
       "      <td>11.89</td>\n",
       "      <td>12.16</td>\n",
       "      <td>11.89</td>\n",
       "      <td>17780846</td>\n",
       "      <td>11.89</td>\n",
       "      <td>0.270000</td>\n",
       "      <td>0.400000</td>\n",
       "    </tr>\n",
       "    <tr>\n",
       "      <th>09/06/2020</th>\n",
       "      <td>12.19</td>\n",
       "      <td>11.80</td>\n",
       "      <td>12.02</td>\n",
       "      <td>12.02</td>\n",
       "      <td>21821481</td>\n",
       "      <td>12.02</td>\n",
       "      <td>0.000000</td>\n",
       "      <td>0.389999</td>\n",
       "    </tr>\n",
       "    <tr>\n",
       "      <th>10/06/2020</th>\n",
       "      <td>12.40</td>\n",
       "      <td>11.94</td>\n",
       "      <td>12.15</td>\n",
       "      <td>12.40</td>\n",
       "      <td>18642323</td>\n",
       "      <td>12.40</td>\n",
       "      <td>0.250000</td>\n",
       "      <td>0.460000</td>\n",
       "    </tr>\n",
       "    <tr>\n",
       "      <th>11/06/2020</th>\n",
       "      <td>12.34</td>\n",
       "      <td>11.88</td>\n",
       "      <td>12.33</td>\n",
       "      <td>12.11</td>\n",
       "      <td>15663291</td>\n",
       "      <td>12.11</td>\n",
       "      <td>0.220000</td>\n",
       "      <td>0.460000</td>\n",
       "    </tr>\n",
       "    <tr>\n",
       "      <th>12/06/2020</th>\n",
       "      <td>12.24</td>\n",
       "      <td>11.60</td>\n",
       "      <td>11.94</td>\n",
       "      <td>12.03</td>\n",
       "      <td>7728680</td>\n",
       "      <td>12.03</td>\n",
       "      <td>0.090000</td>\n",
       "      <td>0.639999</td>\n",
       "    </tr>\n",
       "    <tr>\n",
       "      <th>15/06/2020</th>\n",
       "      <td>12.14</td>\n",
       "      <td>11.62</td>\n",
       "      <td>11.91</td>\n",
       "      <td>12.10</td>\n",
       "      <td>15565157</td>\n",
       "      <td>12.10</td>\n",
       "      <td>0.190001</td>\n",
       "      <td>0.520000</td>\n",
       "    </tr>\n",
       "    <tr>\n",
       "      <th>16/06/2020</th>\n",
       "      <td>12.33</td>\n",
       "      <td>12.01</td>\n",
       "      <td>12.21</td>\n",
       "      <td>12.25</td>\n",
       "      <td>15577453</td>\n",
       "      <td>12.25</td>\n",
       "      <td>0.040000</td>\n",
       "      <td>0.320000</td>\n",
       "    </tr>\n",
       "    <tr>\n",
       "      <th>17/06/2020</th>\n",
       "      <td>12.29</td>\n",
       "      <td>11.93</td>\n",
       "      <td>12.22</td>\n",
       "      <td>12.24</td>\n",
       "      <td>11334454</td>\n",
       "      <td>12.24</td>\n",
       "      <td>0.020000</td>\n",
       "      <td>0.360000</td>\n",
       "    </tr>\n",
       "    <tr>\n",
       "      <th>18/06/2020</th>\n",
       "      <td>12.30</td>\n",
       "      <td>11.81</td>\n",
       "      <td>12.25</td>\n",
       "      <td>11.86</td>\n",
       "      <td>12242564</td>\n",
       "      <td>11.86</td>\n",
       "      <td>0.390000</td>\n",
       "      <td>0.490000</td>\n",
       "    </tr>\n",
       "    <tr>\n",
       "      <th>19/06/2020</th>\n",
       "      <td>12.32</td>\n",
       "      <td>11.90</td>\n",
       "      <td>12.07</td>\n",
       "      <td>12.03</td>\n",
       "      <td>8747084</td>\n",
       "      <td>12.03</td>\n",
       "      <td>0.040000</td>\n",
       "      <td>0.420000</td>\n",
       "    </tr>\n",
       "    <tr>\n",
       "      <th>22/06/2020</th>\n",
       "      <td>12.25</td>\n",
       "      <td>11.82</td>\n",
       "      <td>12.21</td>\n",
       "      <td>12.05</td>\n",
       "      <td>10133608</td>\n",
       "      <td>12.05</td>\n",
       "      <td>0.160000</td>\n",
       "      <td>0.430000</td>\n",
       "    </tr>\n",
       "    <tr>\n",
       "      <th>23/06/2020</th>\n",
       "      <td>12.10</td>\n",
       "      <td>11.76</td>\n",
       "      <td>12.07</td>\n",
       "      <td>11.91</td>\n",
       "      <td>9532255</td>\n",
       "      <td>11.91</td>\n",
       "      <td>0.160000</td>\n",
       "      <td>0.340000</td>\n",
       "    </tr>\n",
       "    <tr>\n",
       "      <th>24/06/2020</th>\n",
       "      <td>12.16</td>\n",
       "      <td>11.65</td>\n",
       "      <td>11.93</td>\n",
       "      <td>11.88</td>\n",
       "      <td>15116264</td>\n",
       "      <td>11.88</td>\n",
       "      <td>0.050000</td>\n",
       "      <td>0.510000</td>\n",
       "    </tr>\n",
       "    <tr>\n",
       "      <th>25/06/2020</th>\n",
       "      <td>11.93</td>\n",
       "      <td>11.65</td>\n",
       "      <td>11.82</td>\n",
       "      <td>11.91</td>\n",
       "      <td>8784068</td>\n",
       "      <td>11.91</td>\n",
       "      <td>0.090000</td>\n",
       "      <td>0.280001</td>\n",
       "    </tr>\n",
       "    <tr>\n",
       "      <th>26/06/2020</th>\n",
       "      <td>11.99</td>\n",
       "      <td>11.45</td>\n",
       "      <td>11.93</td>\n",
       "      <td>11.60</td>\n",
       "      <td>11899073</td>\n",
       "      <td>11.60</td>\n",
       "      <td>0.330000</td>\n",
       "      <td>0.540000</td>\n",
       "    </tr>\n",
       "    <tr>\n",
       "      <th>29/06/2020</th>\n",
       "      <td>11.84</td>\n",
       "      <td>11.33</td>\n",
       "      <td>11.55</td>\n",
       "      <td>11.78</td>\n",
       "      <td>12436194</td>\n",
       "      <td>11.78</td>\n",
       "      <td>0.230000</td>\n",
       "      <td>0.510000</td>\n",
       "    </tr>\n",
       "  </tbody>\n",
       "</table>\n",
       "</div>"
      ],
      "text/plain": [
       "             High    Low   Open  Close    Volume  Adj Close  DiffOpenClose  \\\n",
       "Date                                                                         \n",
       "01/06/2020  11.19  10.83  10.97  10.95  10358485      10.95       0.020000   \n",
       "02/06/2020  11.36  11.01  11.10  11.27   7822226      11.27       0.170000   \n",
       "03/06/2020  11.71  11.22  11.37  11.60  11385915      11.60       0.230000   \n",
       "04/06/2020  11.82  11.44  11.69  11.80  10210779      11.80       0.110001   \n",
       "05/06/2020  12.12  11.73  11.85  12.05  14006160      12.05       0.200000   \n",
       "08/06/2020  12.29  11.89  12.16  11.89  17780846      11.89       0.270000   \n",
       "09/06/2020  12.19  11.80  12.02  12.02  21821481      12.02       0.000000   \n",
       "10/06/2020  12.40  11.94  12.15  12.40  18642323      12.40       0.250000   \n",
       "11/06/2020  12.34  11.88  12.33  12.11  15663291      12.11       0.220000   \n",
       "12/06/2020  12.24  11.60  11.94  12.03   7728680      12.03       0.090000   \n",
       "15/06/2020  12.14  11.62  11.91  12.10  15565157      12.10       0.190001   \n",
       "16/06/2020  12.33  12.01  12.21  12.25  15577453      12.25       0.040000   \n",
       "17/06/2020  12.29  11.93  12.22  12.24  11334454      12.24       0.020000   \n",
       "18/06/2020  12.30  11.81  12.25  11.86  12242564      11.86       0.390000   \n",
       "19/06/2020  12.32  11.90  12.07  12.03   8747084      12.03       0.040000   \n",
       "22/06/2020  12.25  11.82  12.21  12.05  10133608      12.05       0.160000   \n",
       "23/06/2020  12.10  11.76  12.07  11.91   9532255      11.91       0.160000   \n",
       "24/06/2020  12.16  11.65  11.93  11.88  15116264      11.88       0.050000   \n",
       "25/06/2020  11.93  11.65  11.82  11.91   8784068      11.91       0.090000   \n",
       "26/06/2020  11.99  11.45  11.93  11.60  11899073      11.60       0.330000   \n",
       "29/06/2020  11.84  11.33  11.55  11.78  12436194      11.78       0.230000   \n",
       "\n",
       "            DiffHighLow  \n",
       "Date                     \n",
       "01/06/2020     0.360000  \n",
       "02/06/2020     0.349999  \n",
       "03/06/2020     0.490000  \n",
       "04/06/2020     0.380000  \n",
       "05/06/2020     0.390000  \n",
       "08/06/2020     0.400000  \n",
       "09/06/2020     0.389999  \n",
       "10/06/2020     0.460000  \n",
       "11/06/2020     0.460000  \n",
       "12/06/2020     0.639999  \n",
       "15/06/2020     0.520000  \n",
       "16/06/2020     0.320000  \n",
       "17/06/2020     0.360000  \n",
       "18/06/2020     0.490000  \n",
       "19/06/2020     0.420000  \n",
       "22/06/2020     0.430000  \n",
       "23/06/2020     0.340000  \n",
       "24/06/2020     0.510000  \n",
       "25/06/2020     0.280001  \n",
       "26/06/2020     0.540000  \n",
       "29/06/2020     0.510000  "
      ]
     },
     "execution_count": 33,
     "metadata": {},
     "output_type": "execute_result"
    }
   ],
   "source": [
    "df"
   ]
  },
  {
   "cell_type": "markdown",
   "metadata": {},
   "source": [
    "** Maximum and minimum Open values **"
   ]
  },
  {
   "cell_type": "code",
   "execution_count": 34,
   "metadata": {},
   "outputs": [
    {
     "data": {
      "text/plain": [
       "12.33"
      ]
     },
     "execution_count": 34,
     "metadata": {},
     "output_type": "execute_result"
    }
   ],
   "source": [
    "round((df['Open'].max()),2)"
   ]
  },
  {
   "cell_type": "code",
   "execution_count": 35,
   "metadata": {},
   "outputs": [
    {
     "data": {
      "text/plain": [
       "10.97"
      ]
     },
     "execution_count": 35,
     "metadata": {},
     "output_type": "execute_result"
    }
   ],
   "source": [
    "round((df['Open'].min()),2)"
   ]
  },
  {
   "cell_type": "markdown",
   "metadata": {},
   "source": [
    "** Maximum and minimum Open values **"
   ]
  },
  {
   "cell_type": "code",
   "execution_count": 36,
   "metadata": {},
   "outputs": [
    {
     "data": {
      "text/plain": [
       "12.4"
      ]
     },
     "execution_count": 36,
     "metadata": {},
     "output_type": "execute_result"
    }
   ],
   "source": [
    "round((df['Close'].max()),2)"
   ]
  },
  {
   "cell_type": "code",
   "execution_count": 37,
   "metadata": {},
   "outputs": [
    {
     "data": {
      "text/plain": [
       "10.95"
      ]
     },
     "execution_count": 37,
     "metadata": {},
     "output_type": "execute_result"
    }
   ],
   "source": [
    "round((df['Close'].min()),2)"
   ]
  },
  {
   "cell_type": "markdown",
   "metadata": {},
   "source": [
    "** Maximum and minimum volume values **"
   ]
  },
  {
   "cell_type": "code",
   "execution_count": 38,
   "metadata": {},
   "outputs": [
    {
     "data": {
      "text/plain": [
       "21821481"
      ]
     },
     "execution_count": 38,
     "metadata": {},
     "output_type": "execute_result"
    }
   ],
   "source": [
    "df['Volume'].max()"
   ]
  },
  {
   "cell_type": "code",
   "execution_count": 39,
   "metadata": {},
   "outputs": [
    {
     "data": {
      "text/plain": [
       "7728680"
      ]
     },
     "execution_count": 39,
     "metadata": {},
     "output_type": "execute_result"
    }
   ],
   "source": [
    "df['Volume'].min()"
   ]
  },
  {
   "cell_type": "markdown",
   "metadata": {},
   "source": [
    "** Maximum and minimum Open and Close difference values **"
   ]
  },
  {
   "cell_type": "code",
   "execution_count": 40,
   "metadata": {},
   "outputs": [
    {
     "data": {
      "text/plain": [
       "0.39"
      ]
     },
     "execution_count": 40,
     "metadata": {},
     "output_type": "execute_result"
    }
   ],
   "source": [
    "round((df['DiffOpenClose'].max()),2)"
   ]
  },
  {
   "cell_type": "code",
   "execution_count": 41,
   "metadata": {},
   "outputs": [
    {
     "data": {
      "text/plain": [
       "0.0"
      ]
     },
     "execution_count": 41,
     "metadata": {},
     "output_type": "execute_result"
    }
   ],
   "source": [
    "round((df['DiffOpenClose'].min()),2)"
   ]
  },
  {
   "cell_type": "markdown",
   "metadata": {},
   "source": [
    "** Maximum and minimum High and Low difference values **"
   ]
  },
  {
   "cell_type": "code",
   "execution_count": 42,
   "metadata": {},
   "outputs": [
    {
     "data": {
      "text/plain": [
       "0.64"
      ]
     },
     "execution_count": 42,
     "metadata": {},
     "output_type": "execute_result"
    }
   ],
   "source": [
    "round((df['DiffHighLow'].max()),2)"
   ]
  },
  {
   "cell_type": "code",
   "execution_count": 43,
   "metadata": {},
   "outputs": [
    {
     "data": {
      "text/plain": [
       "0.28"
      ]
     },
     "execution_count": 43,
     "metadata": {},
     "output_type": "execute_result"
    }
   ],
   "source": [
    "round((df['DiffHighLow'].min()),2)"
   ]
  },
  {
   "cell_type": "markdown",
   "metadata": {},
   "source": [
    "## Analysis"
   ]
  },
  {
   "cell_type": "code",
   "execution_count": 44,
   "metadata": {},
   "outputs": [
    {
     "data": {
      "text/plain": [
       "Text(0.5, 1.0, 'Figure 1')"
      ]
     },
     "execution_count": 44,
     "metadata": {},
     "output_type": "execute_result"
    },
    {
     "data": {
      "image/png": "[encoded data removed]",
      "text/plain": [
       "<Figure size 720x360 with 1 Axes>"
      ]
     },
     "metadata": {
      "needs_background": "light"
     },
     "output_type": "display_data"
    }
   ],
   "source": [
    "fig_OC_L = plt.figure(figsize=(10,5))\n",
    "df['Open'].plot(color='green')\n",
    "df['Close'].plot(color='blue')\n",
    "plt.xlabel('Date')\n",
    "plt.ylabel('Price per metric tonne $')\n",
    "plt.legend()\n",
    "plt.title('Figure 1')"
   ]
  },
  {
   "cell_type": "code",
   "execution_count": 45,
   "metadata": {},
   "outputs": [
    {
     "data": {
      "image/png": "[encoded data removed]",
      "text/plain": [
       "<Figure size 432x288 with 2 Axes>"
      ]
     },
     "metadata": {
      "needs_background": "light"
     },
     "output_type": "display_data"
    }
   ],
   "source": [
    "fig_OC_B , ax = plt.subplots(nrows=1, ncols=2)\n",
    "\n",
    "ax[0].boxplot(df['Open'])\n",
    "ax[0].set_title('Open', fontsize=10)\n",
    "\n",
    "ax[1].boxplot(df['Close'])\n",
    "ax[1].set_title('Close', fontsize=10)\n",
    "\n",
    "for axs in ax.flat:\n",
    "    axs.set(ylabel='Price per metric tonne $' )\n",
    "\n",
    "plt.tight_layout()\n"
   ]
  },
  {
   "cell_type": "code",
   "execution_count": 46,
   "metadata": {},
   "outputs": [
    {
     "data": {
      "text/plain": [
       "Text(0.5, 1.0, 'Figure 2')"
      ]
     },
     "execution_count": 46,
     "metadata": {},
     "output_type": "execute_result"
    },
    {
     "data": {
      "image/png": "[encoded data removed]",
      "text/plain": [
       "<Figure size 720x360 with 1 Axes>"
      ]
     },
     "metadata": {
      "needs_background": "light"
     },
     "output_type": "display_data"
    }
   ],
   "source": [
    "fig_HL_L = plt.figure(figsize=(10,5))\n",
    "df['High'].plot(color='green')\n",
    "df['Low'].plot(color='blue')\n",
    "plt.xlabel('Date')\n",
    "plt.ylabel('Contract Price $')\n",
    "plt.legend()\n",
    "plt.title('Figure 2')"
   ]
  },
  {
   "cell_type": "code",
   "execution_count": 47,
   "metadata": {},
   "outputs": [
    {
     "data": {
      "image/png": "[encoded data removed]",
      "text/plain": [
       "<Figure size 720x360 with 2 Axes>"
      ]
     },
     "metadata": {
      "needs_background": "light"
     },
     "output_type": "display_data"
    }
   ],
   "source": [
    "fig_HL_B , ax = plt.subplots(1,2, figsize=(10,5))\n",
    "\n",
    "ax[0].boxplot(df['High'])\n",
    "ax[0].set_title('High', fontsize=10)\n",
    "\n",
    "ax[1].boxplot(df['Low'])\n",
    "ax[1].set_title('Low', fontsize=10)\n",
    "\n",
    "for axs in ax.flat:\n",
    "    axs.set(ylabel='Price per metric tonne $')\n",
    "\n",
    "\n",
    "plt.tight_layout()"
   ]
  },
  {
   "cell_type": "code",
   "execution_count": 48,
   "metadata": {},
   "outputs": [
    {
     "data": {
      "text/plain": [
       "Text(0.5, 1.0, 'Figure 3')"
      ]
     },
     "execution_count": 48,
     "metadata": {},
     "output_type": "execute_result"
    },
    {
     "data": {
      "image/png": "[encoded data removed]",
      "text/plain": [
       "<Figure size 720x360 with 1 Axes>"
      ]
     },
     "metadata": {
      "needs_background": "light"
     },
     "output_type": "display_data"
    }
   ],
   "source": [
    "fig_V_L = plt.figure(figsize=(10,5))\n",
    "df['Volume'].plot(color='red')\n",
    "plt.ylabel('Volume (tens of millions)', fontsize=10)\n",
    "plt.xlabel('Date', fontsize=10)\n",
    "plt.title('Figure 3')"
   ]
  },
  {
   "cell_type": "code",
   "execution_count": 49,
   "metadata": {},
   "outputs": [
    {
     "data": {
      "text/plain": [
       "Text(0.5, 1.0, 'Figure 4')"
      ]
     },
     "execution_count": 49,
     "metadata": {},
     "output_type": "execute_result"
    },
    {
     "data": {
      "image/png": "[encoded data removed]",
      "text/plain": [
       "<Figure size 720x360 with 1 Axes>"
      ]
     },
     "metadata": {
      "needs_background": "light"
     },
     "output_type": "display_data"
    }
   ],
   "source": [
    "fig_V_L = plt.figure(figsize=(10,5))\n",
    "df['Volume'].pct_change().plot(color='red')\n",
    "plt.ylabel('Percentage change Volume', fontsize=10)\n",
    "plt.xlabel('Date', fontsize=10)\n",
    "plt.title('Figure 4')"
   ]
  },
  {
   "cell_type": "code",
   "execution_count": 50,
   "metadata": {},
   "outputs": [
    {
     "data": {
      "text/plain": [
       "Text(0.5, 1, 'Figure 5')"
      ]
     },
     "execution_count": 50,
     "metadata": {},
     "output_type": "execute_result"
    },
    {
     "data": {
      "image/png": "[encoded data removed]",
      "text/plain": [
       "<Figure size 720x360 with 2 Axes>"
      ]
     },
     "metadata": {
      "needs_background": "light"
     },
     "output_type": "display_data"
    }
   ],
   "source": [
    "fig_OCV_L, ax1 = plt.subplots(figsize=(10,5))\n",
    "\n",
    "ax1.set_xlabel('Date')\n",
    "ax1.set_ylabel('Price per metric tonne $')\n",
    "ax1.plot(df['Open'], label='Open', color='b', linestyle='-.')  \n",
    "ax1.plot(df['Close'], label='Close', color='g', linestyle ='-.')\n",
    "\n",
    "\n",
    "ax2 = ax1.twinx()\n",
    "ax2.set_ylabel('Volume (tens of millions)')  \n",
    "ax2.plot(df['Volume'], label='Volume', color='r', linestyle='--')\n",
    "\n",
    "\n",
    "ax1.set_xticks([0,10,20])\n",
    "\n",
    "fig_OCV_L.legend(bbox_to_anchor=(0.925, 0.925), fontsize=12)\n",
    "\n",
    "fig_OCV_L.tight_layout()\n",
    "plt.title('Figure 5')"
   ]
  },
  {
   "cell_type": "markdown",
   "metadata": {},
   "source": [
    "## Discussion/Conclusion\n",
    "\n",
    "The max/min daily price difference were 0.64 and 0.28. While the max/min difference between open and closing values was 0.39 and 0.0, all in absolute terms. As expected this suggests more volatility during times in which the market is open. \n",
    "\n",
    "The box plots also highlight greater variance in the lower end of prices, this may suggest a downward pricing pressure, or a firmer ceiling than floor. Figures 1 and 2, denoting Open/Close as well and High/Low, show an upward trend over the period as a whole with a hump in the middle. This could lead to a drop back down over the coming days and negate the trend. With econonomies opening back up and lockdowns easing, this seems unlikely.\n",
    "\n",
    "Figure 3 and 4 display the exchange volume and percentage change. The graphs show a big downward spice on approximately 12 June, followed by a big increase by the 15th. This project does not seek to explain these occurnaces, mereley highlight them. However, an appoxiamte 40% fall followed by 100% rise, would be interesting to research futher.\n",
    "\n",
    "Finally, Figure 5 plots Open/Close prices alonside Volume. Unsurprisingly, the trade volume seems to conicide with the contract prices, albeit with far greater volatility. The direction of causality, if it exists at all, is however unclear.\n",
    "\n",
    "Many world factors have caused a chaning dynamic to sugar markets, beyond the obvious Covid-19 pandemic, such as low oil prices. Oversupply at one point caused markets to close at -$37.63 in April. Exploring a year to date comparision as a result of these, among other, factors would serve an interesting futher project."
   ]
  },
  {
   "cell_type": "code",
   "execution_count": null,
   "metadata": {},
   "outputs": [],
   "source": []
  },
  {
   "cell_type": "code",
   "execution_count": null,
   "metadata": {},
   "outputs": [],
   "source": []
  }
 ],
 "metadata": {
  "kernelspec": {
   "display_name": "Python 3",
   "language": "python",
   "name": "python3"
  },
  "language_info": {
   "codemirror_mode": {
    "name": "ipython",
    "version": 3
   },
   "file_extension": ".py",
   "mimetype": "text/x-python",
   "name": "python",
   "nbconvert_exporter": "python",
   "pygments_lexer": "ipython3",
   "version": "3.7.6"
  }
 },
 "nbformat": 4,
 "nbformat_minor": 4
}
